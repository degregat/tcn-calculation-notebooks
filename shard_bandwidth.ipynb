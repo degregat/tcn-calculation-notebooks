{
 "cells": [
  {
   "cell_type": "code",
   "execution_count": null,
   "metadata": {},
   "outputs": [],
   "source": [
    "using Geodesy, PlotlyJS, Interact"
   ]
  },
  {
   "cell_type": "code",
   "execution_count": null,
   "metadata": {},
   "outputs": [],
   "source": [
    "# lat is the latitude the shard is on, ang is the angle of the shard\n",
    "function shard_area(lat, ang)\n",
    "    a, b, c, d = [LatLon(lat, 0), LatLon(lat, ang), \n",
    "                  LatLon(lat+ang, ang), LatLon(lat+ang, 0)]\n",
    "                    \n",
    "    area = (distance(a,b)*distance(a,d))/1000000 # in km^2\n",
    "    # sides approximated by cartesian distance\n",
    "    # curvature should be neglegible at these sizes\n",
    "    \n",
    "    return(area)\n",
    "end\n",
    "    \n",
    "# estimate population and reveals per day\n",
    "function pop_reveals(area, pop_dens, inf_rate)\n",
    "    pop = area*pop_dens\n",
    "    reveals = pop*inf_rate\n",
    "    return(pop, reveals)\n",
    "end\n",
    "\n",
    "# estimate bandwidth in MB per user and GB overall\n",
    "function bandwidth(pop, reveals, report_size, rotations)\n",
    "    bw_user = reveals * report_size * rotations\n",
    "    bw_all = bw_user * pop\n",
    "    return(bw_user/1000000, bw_all/1000000000)\n",
    "end"
   ]
  },
  {
   "cell_type": "code",
   "execution_count": null,
   "metadata": {},
   "outputs": [],
   "source": [
    "@manipulate for rmax in slider(1:1:48, value=12, label=\"max rotation\"),\n",
    "                amax in slider(0.05:0.05:0.5, label=\"max shard angle\"),\n",
    "                rs in slider(70:10:389, value=200, label=\"report size\"),\n",
    "                ir in slider([0.0001, 0.001, 0.01, 0.1], label=\"infection rate\"),\n",
    "                download = Dict(\"per user\"=>1, \"overall\"=>0)\n",
    "\n",
    "    layout = Layout(scene = attr(\n",
    "                    xaxis_title = \"rotations\", \n",
    "                    yaxis_title = \"angle (°)\", \n",
    "                    zaxis_title = \n",
    "                        (if download == 1\n",
    "                            \"MB per user\"\n",
    "                         else\n",
    "                            \"GB overall\"\n",
    "                        end),\n",
    "                    camera = attr(eye=attr(x=-1, y=-1.25, z=1))))\n",
    "    style = Style(layout=layout)\n",
    "    \n",
    "        \n",
    "    function bw(r,a)\n",
    "        if download == 1\n",
    "            b, _ = bandwidth(pop_reveals(shard_area(0,a), 6000, ir)..., rs, r)\n",
    "        else\n",
    "            _, b = bandwidth(pop_reveals(shard_area(0,a), 6000, ir)..., rs, r)\n",
    "        end\n",
    "        \n",
    "        return(b)\n",
    "    end\n",
    "\n",
    "    rot = 1:1:rmax\n",
    "    ang = 0.05:0.05:amax\n",
    "    data = [bw(r,a) for r in rot, a in ang]\n",
    "\n",
    "    user = surface(x=rot, y=ang, z=data)\n",
    "    plot(user, style=style)\n",
    "end\n",
    "# sliders to explore different scales of the tradeoff. \n",
    "# (Camera gets reset on parameter change)"
   ]
  }
 ],
 "metadata": {
  "@webio": {
   "lastCommId": null,
   "lastKernelId": null
  },
  "kernelspec": {
   "display_name": "Julia 1.4.0",
   "language": "julia",
   "name": "julia-1.4"
  },
  "language_info": {
   "file_extension": ".jl",
   "mimetype": "application/julia",
   "name": "julia",
   "version": "1.4.0"
  }
 },
 "nbformat": 4,
 "nbformat_minor": 4
}
