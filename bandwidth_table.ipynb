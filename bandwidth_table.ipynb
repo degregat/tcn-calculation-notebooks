{
 "cells": [
  {
   "cell_type": "code",
   "execution_count": 1,
   "metadata": {},
   "outputs": [],
   "source": [
    "using PrettyTables"
   ]
  },
  {
   "cell_type": "markdown",
   "metadata": {},
   "source": [
    "## Bandwidth\n",
    "\n",
    "We want to calculate bandwidth requirements in relation to how often we rotate the keys, from which the Rolling Proximity Identifiers get derived.\n",
    "\n",
    "Let:\n",
    "- M be the amount of Members in the bucket\n",
    "- i the daily infection rate\n",
    "- S the size of a report in Byte\n",
    "- $B_{a}$ overwall bandwidth \n",
    "- $B_{u}$ the bandwidth per user\n",
    "- r number of daily key rotations\n",
    "- p reporting period in days\n",
    "\n",
    "$$B_{u} = M \\cdot i \\cdot S \\cdot r \\cdot p$$\n",
    "\n",
    "$$B_{a} = M^2 \\cdot i \\cdot S \\cdot r \\cdot p$$"
   ]
  },
  {
   "cell_type": "markdown",
   "metadata": {},
   "source": [
    "Lets calculate the bandwidth for buckets of 5 million people, with a daily infection rate of 0.001 and a reporting period of 14 days for different rotation frequencies."
   ]
  },
  {
   "cell_type": "code",
   "execution_count": 2,
   "metadata": {},
   "outputs": [
    {
     "name": "stdout",
     "output_type": "stream",
     "text": [
      "Report size: 70 Byte\t Reporting period: 14 days\n",
      "Bucket size: 5000000\t Daily infections: 500\n",
      "|\u001b[0m\u001b[1m rotations per day \u001b[0m|\u001b[0m\u001b[1m Bandwidth per user (MB) \u001b[0m|\u001b[0m\u001b[1m Bandwidth overall (GB) \u001b[0m|\u001b[0m\n",
      "|\u001b[0m-------------------\u001b[0m|\u001b[0m-------------------------\u001b[0m|\u001b[0m------------------------\u001b[0m|\u001b[0m\n",
      "|\u001b[0m               1.0 \u001b[0m|\u001b[0m                    0.49 \u001b[0m|\u001b[0m                 2450.0 \u001b[0m|\u001b[0m\n",
      "|\u001b[0m               3.0 \u001b[0m|\u001b[0m                    1.47 \u001b[0m|\u001b[0m                 7350.0 \u001b[0m|\u001b[0m\n",
      "|\u001b[0m               4.0 \u001b[0m|\u001b[0m                    1.96 \u001b[0m|\u001b[0m                 9800.0 \u001b[0m|\u001b[0m\n",
      "|\u001b[0m               6.0 \u001b[0m|\u001b[0m                    2.94 \u001b[0m|\u001b[0m                14700.0 \u001b[0m|\u001b[0m\n",
      "|\u001b[0m              12.0 \u001b[0m|\u001b[0m                    5.88 \u001b[0m|\u001b[0m                29400.0 \u001b[0m|\u001b[0m\n",
      "|\u001b[0m              24.0 \u001b[0m|\u001b[0m                   11.76 \u001b[0m|\u001b[0m                58800.0 \u001b[0m|\u001b[0m\n",
      "\n",
      "Report size: 389 Byte\t Reporting period: 14 days\n",
      "Bucket size: 5000000\t Daily infections: 500\n",
      "|\u001b[0m\u001b[1m rotations per day \u001b[0m|\u001b[0m\u001b[1m Bandwidth per user (MB) \u001b[0m|\u001b[0m\u001b[1m Bandwidth overall (GB) \u001b[0m|\u001b[0m\n",
      "|\u001b[0m-------------------\u001b[0m|\u001b[0m-------------------------\u001b[0m|\u001b[0m------------------------\u001b[0m|\u001b[0m\n",
      "|\u001b[0m               1.0 \u001b[0m|\u001b[0m                   2.723 \u001b[0m|\u001b[0m                13615.0 \u001b[0m|\u001b[0m\n",
      "|\u001b[0m               3.0 \u001b[0m|\u001b[0m                   8.169 \u001b[0m|\u001b[0m                40845.0 \u001b[0m|\u001b[0m\n",
      "|\u001b[0m               4.0 \u001b[0m|\u001b[0m                  10.892 \u001b[0m|\u001b[0m                54460.0 \u001b[0m|\u001b[0m\n",
      "|\u001b[0m               6.0 \u001b[0m|\u001b[0m                  16.338 \u001b[0m|\u001b[0m                81690.0 \u001b[0m|\u001b[0m\n",
      "|\u001b[0m              12.0 \u001b[0m|\u001b[0m                  32.676 \u001b[0m|\u001b[0m               163380.0 \u001b[0m|\u001b[0m\n",
      "|\u001b[0m              24.0 \u001b[0m|\u001b[0m                  65.352 \u001b[0m|\u001b[0m               326760.0 \u001b[0m|\u001b[0m\n",
      "\n"
     ]
    }
   ],
   "source": [
    "report_sizes = [70, 389]\n",
    "members = 5000000\n",
    "reporting_period = 14\n",
    "infection_rate = 0.0001\n",
    "rotations = [1,3,4,6,12,24]\n",
    "\n",
    "bw_u(s,r) = (members*infection_rate*s*r*reporting_period)/1000000\n",
    "bw_a(s,r) = ((members^2)*infection_rate*s*r*reporting_period)/1000000000\n",
    "\n",
    "function table(s)\n",
    "    b_u = [bw_u(s, r) for r in rotations]\n",
    "    b_a = [bw_a(s, r) for r in rotations]\n",
    "    data = hcat(rotations, b_u, b_a)\n",
    "    header = [\"rotations per day\" \"Bandwidth per user (MB)\" \"Bandwidth overall (GB)\";]\n",
    "    pretty_table(data, header, tf = markdown)\n",
    "end\n",
    "\n",
    "for s in report_sizes\n",
    "    println(\"Report size: \", s, \" Byte\\t Reporting period: \", reporting_period, \" days\")\n",
    "    println(\"Bucket size: \", members, \"\\t Daily infections: \", Int(members*infection_rate))\n",
    "    table(s)\n",
    "    println()\n",
    "end"
   ]
  }
 ],
 "metadata": {
  "@webio": {
   "lastCommId": null,
   "lastKernelId": null
  },
  "kernelspec": {
   "display_name": "Julia 1.4.0",
   "language": "julia",
   "name": "julia-1.4"
  },
  "language_info": {
   "file_extension": ".jl",
   "mimetype": "application/julia",
   "name": "julia",
   "version": "1.4.1"
  }
 },
 "nbformat": 4,
 "nbformat_minor": 4
}
